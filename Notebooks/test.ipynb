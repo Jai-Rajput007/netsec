{
 "cells": [
  {
   "cell_type": "code",
   "execution_count": 1,
   "id": "2a8ce417",
   "metadata": {},
   "outputs": [
    {
     "name": "stdout",
     "output_type": "stream",
     "text": [
      "   qty_dot_url  qty_hyphen_url  qty_underline_url  qty_slash_url  \\\n",
      "0            3               0                  0              1   \n",
      "1            5               0                  1              3   \n",
      "2            2               0                  0              1   \n",
      "3            4               0                  2              5   \n",
      "4            2               0                  0              0   \n",
      "\n",
      "   qty_questionmark_url  qty_equal_url  qty_at_url  qty_and_url  \\\n",
      "0                     0              0           0            0   \n",
      "1                     0              3           0            2   \n",
      "2                     0              0           0            0   \n",
      "3                     0              0           0            0   \n",
      "4                     0              0           0            0   \n",
      "\n",
      "   qty_exclamation_url  qty_space_url  ...  qty_ip_resolved  qty_nameservers  \\\n",
      "0                    0              0  ...                1                2   \n",
      "1                    0              0  ...                1                2   \n",
      "2                    0              0  ...                1                2   \n",
      "3                    0              0  ...                1                2   \n",
      "4                    0              0  ...                1                2   \n",
      "\n",
      "   qty_mx_servers  ttl_hostname  tls_ssl_certificate  qty_redirects  \\\n",
      "0               0           892                    0              0   \n",
      "1               1          9540                    1              0   \n",
      "2               3           589                    1              0   \n",
      "3               0           292                    1              0   \n",
      "4               1          3597                    0              1   \n",
      "\n",
      "   url_google_index  domain_google_index  url_shortened  phishing  \n",
      "0                 0                    0              0         1  \n",
      "1                 0                    0              0         1  \n",
      "2                 0                    0              0         0  \n",
      "3                 0                    0              0         1  \n",
      "4                 0                    0              0         0  \n",
      "\n",
      "[5 rows x 112 columns]\n",
      "(88647, 112)\n"
     ]
    }
   ],
   "source": [
    "import pandas as pd\n",
    "\n",
    "# Define the relative path to the CSV file\n",
    "file_path = \"../Network_Data/dataset_full.csv\"\n",
    "\n",
    "# Read the CSV file\n",
    "df = pd.read_csv(file_path)\n",
    "\n",
    "# Display the first few rows of the DataFrame\n",
    "print(df.head())\n",
    "print(df.shape)"
   ]
  },
  {
   "cell_type": "code",
   "execution_count": 2,
   "id": "ba6b4dd3",
   "metadata": {},
   "outputs": [
    {
     "data": {
      "text/plain": [
       "Index(['qty_dot_url', 'qty_hyphen_url', 'qty_underline_url', 'qty_slash_url',\n",
       "       'qty_questionmark_url', 'qty_equal_url', 'qty_at_url', 'qty_and_url',\n",
       "       'qty_exclamation_url', 'qty_space_url',\n",
       "       ...\n",
       "       'qty_ip_resolved', 'qty_nameservers', 'qty_mx_servers', 'ttl_hostname',\n",
       "       'tls_ssl_certificate', 'qty_redirects', 'url_google_index',\n",
       "       'domain_google_index', 'url_shortened', 'phishing'],\n",
       "      dtype='object', length=112)"
      ]
     },
     "execution_count": 2,
     "metadata": {},
     "output_type": "execute_result"
    }
   ],
   "source": [
    "df.columns"
   ]
  }
 ],
 "metadata": {
  "kernelspec": {
   "display_name": "Python 3",
   "language": "python",
   "name": "python3"
  },
  "language_info": {
   "codemirror_mode": {
    "name": "ipython",
    "version": 3
   },
   "file_extension": ".py",
   "mimetype": "text/x-python",
   "name": "python",
   "nbconvert_exporter": "python",
   "pygments_lexer": "ipython3",
   "version": "3.12.5"
  }
 },
 "nbformat": 4,
 "nbformat_minor": 5
}
